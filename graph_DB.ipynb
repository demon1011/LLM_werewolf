{
 "cells": [
  {
   "cell_type": "code",
   "execution_count": 10,
   "id": "7fae2a69",
   "metadata": {},
   "outputs": [
    {
     "name": "stdout",
     "output_type": "stream",
     "text": [
      "{'Tom': Vertex: primary_key = Tom, 'Kitty': Vertex: primary_key = Kitty, 'Jimmy': Vertex: primary_key = Jimmy}\n"
     ]
    }
   ],
   "source": [
    "import pygraphs as pg\n",
    "\n",
    "G = pg.Graph()\n",
    "# 从csv读取节点并加入图数据库\n",
    "# G.add_vertexes_from_file(filename='Vertexes.csv')\n",
    "\n",
    "# 从list读取节点并加入图数据库\n",
    "vertexes_list = [['Tom', {'age': 10}],\n",
    "                 ['Kitty', {'sex': 'female'}],\n",
    "                 ['Jimmy', {'sex': 'male', 'age': 35}]\n",
    "                 ]\n",
    "G.add_vertexes_from_list(vertexes_list=vertexes_list)\n",
    "\n",
    "print(G.vertexes)"
   ]
  },
  {
   "cell_type": "code",
   "execution_count": 11,
   "id": "f3de55df",
   "metadata": {},
   "outputs": [
    {
     "name": "stdout",
     "output_type": "stream",
     "text": [
      "{Edge: Kitty->Jimmy, Edge: Tom->Jimmy}\n"
     ]
    }
   ],
   "source": [
    "# 从csv读取关系并加入图数据库\n",
    "# G.add_edges_from_file(filename='Edges.csv')\n",
    "\n",
    "# 从 list 读取并加入图数据库\n",
    "edges_list = [['Tom', {'relation': 'son'}, 'Jimmy'],\n",
    "              ['Kitty', {'relation': 'wife'}, 'Jimmy'],\n",
    "              ]\n",
    "G.add_edges_from_list(edges_list=edges_list)\n",
    "print(G.edges)"
   ]
  },
  {
   "cell_type": "code",
   "execution_count": 13,
   "id": "0b753f08",
   "metadata": {},
   "outputs": [
    {
     "name": "stdout",
     "output_type": "stream",
     "text": [
      "Vertex: primary_key = Kitty\n",
      "set()\n",
      "{Edge: Tom->Jimmy}\n"
     ]
    }
   ],
   "source": [
    "# 按照主键来查询\n",
    "print(G.vertexes['Kitty'])\n",
    "\n",
    "# 按特定过滤条件查询节点\n",
    "young_people = G.query(condition_vertex=lambda x: ('born' in x) and x['born'] > '1975')\n",
    "print(young_people)\n",
    "\n",
    "# 按特定过滤条件查询边\n",
    "relation_son = G.query(condition_edge=lambda x: 'relation' in x and x['relation'] == 'son')\n",
    "print(relation_son)"
   ]
  },
  {
   "cell_type": "code",
   "execution_count": 14,
   "id": "ddead4e8",
   "metadata": {},
   "outputs": [],
   "source": [
    "for edge in G.edges:\n",
    "    if 'type' in edge.val and edge.val['type'] == 'acted_in':\n",
    "        src = edge.src\n",
    "        if 'born' in src.val and src.val['born'] > '1975':\n",
    "            print(src, ';', edge)"
   ]
  },
  {
   "cell_type": "code",
   "execution_count": 15,
   "id": "4db6893c",
   "metadata": {},
   "outputs": [],
   "source": [
    "# 删边，G.del_edges 批量删，G.del_edge 单个删\n",
    "G.del_edges(edges_to_del=relation_son)\n",
    "\n",
    "# 删节点，G.del_vertexes 批量删，G.del_vertex 单个删\n",
    "G.del_vertex(vertex_to_del=G.vertexes['Tom'])"
   ]
  },
  {
   "cell_type": "code",
   "execution_count": 16,
   "id": "789b750b",
   "metadata": {},
   "outputs": [
    {
     "name": "stdout",
     "output_type": "stream",
     "text": [
      "{'relation': 'husband'}\n"
     ]
    }
   ],
   "source": [
    "edge_to_set = list(G.vertexes['Kitty'].dst)[0]\n",
    "self = G.set_val(edge_to_set, {'relation': 'husband'})\n",
    "print(edge_to_set.val)"
   ]
  },
  {
   "cell_type": "code",
   "execution_count": 17,
   "id": "9f6af7c0",
   "metadata": {},
   "outputs": [],
   "source": [
    "pg.save_db(G, 'db_file.db')"
   ]
  },
  {
   "cell_type": "code",
   "execution_count": 18,
   "id": "9d4c6e7e",
   "metadata": {},
   "outputs": [],
   "source": [
    "G_new = pg.load_db('db_file.db')"
   ]
  },
  {
   "cell_type": "code",
   "execution_count": 68,
   "id": "a5c1fd1c",
   "metadata": {},
   "outputs": [
    {
     "data": {
      "text/plain": [
       "{Vertex: primary_key = aggressive_hunter-related-aggressive_seer_aggressive_villager_aggressive_werewolf_conservative_villager_conservative_witch_persuasive_werewolf_persuasive_werewolf-advice-猎人_第1天白天_白天发言,\n",
       " Vertex: primary_key = aggressive_hunter-related-aggressive_werewolf_conservative_seer_conservative_villager_conservative_villager_conservative_witch_normal_werewolf_normal_werewolf-advice-猎人_第1天白天_白天发言,\n",
       " Vertex: primary_key = aggressive_seer-related-aggressive_hunter_aggressive_werewolf_conservative_villager_conservative_villager_conservative_werewolf_normal_werewolf_normal_witch-advice-预言家_第1天白天_白天发言,\n",
       " Vertex: primary_key = aggressive_seer-related-aggressive_hunter_aggressive_werewolf_conservative_villager_conservative_werewolf_conservative_witch_normal_villager_persuasive_werewolf-advice-预言家_第1天白天_白天发言,\n",
       " Vertex: primary_key = aggressive_seer-related-aggressive_hunter_conservative_werewolf_conservative_werewolf_extreme_conservative_witch_normal_villager_normal_villager_normal_werewolf-advice-预言家_第2天白天_白天发言,\n",
       " Vertex: primary_key = aggressive_seer-related-aggressive_villager_aggressive_villager_aggressive_werewolf_aggressive_werewolf_aggressive_witch_extreme_conservative_hunter_normal_werewolf-advice-预言家_第1天白天_白天发言,\n",
       " Vertex: primary_key = aggressive_seer-related-aggressive_villager_aggressive_villager_aggressive_werewolf_conservative_witch_extreme_conservative_hunter_normal_werewolf_persuasive_werewolf-advice-预言家_第1天白天_白天发言,\n",
       " Vertex: primary_key = aggressive_seer-related-aggressive_villager_aggressive_villager_persuasive_werewolf_normal_hunter_normal_werewolf_conservative_witch_normal_werewolf-advice-预言家_第1天白天_白天发言,\n",
       " Vertex: primary_key = aggressive_seer-related-aggressive_villager_aggressive_werewolf_aggressive_werewolf_conservative_villager_conservative_werewolf_normal_hunter_normal_witch-advice-预言家_第1天白天_白天发言,\n",
       " Vertex: primary_key = aggressive_seer-related-aggressive_villager_aggressive_werewolf_conservative_hunter_conservative_villager_conservative_werewolf_conservative_werewolf_extreme_conservative_witch-advice-预言家_第1天白天_白天发言,\n",
       " Vertex: primary_key = aggressive_seer-related-aggressive_villager_aggressive_werewolf_conservative_hunter_extreme_conservative_witch_normal_villager_normal_werewolf_persuasive_werewolf-advice-预言家_第1天白天_白天发言,\n",
       " Vertex: primary_key = aggressive_seer-related-aggressive_villager_conservative_villager_conservative_werewolf_conservative_witch_extreme_conservative_hunter_normal_werewolf_normal_werewolf-advice-预言家_第1天白天_白天发言,\n",
       " Vertex: primary_key = aggressive_seer-related-aggressive_werewolf_aggressive_werewolf_conservative_villager_conservative_villager_conservative_witch_extreme_conservative_hunter_persuasive_werewolf-advice-预言家_第1天白天_白天发言,\n",
       " Vertex: primary_key = aggressive_seer-related-aggressive_werewolf_aggressive_witch_conservative_hunter_conservative_villager_conservative_villager_normal_werewolf_persuasive_werewolf-advice-预言家_第1天白天_白天发言,\n",
       " Vertex: primary_key = aggressive_seer-related-aggressive_werewolf_conservative_villager_conservative_werewolf_conservative_witch_extreme_conservative_hunter_normal_villager_persuasive_werewolf-advice-预言家_第1天白天_白天发言,\n",
       " Vertex: primary_key = aggressive_seer-related-aggressive_witch_normal_werewolf_conservative_hunter_aggressive_villager_normal_villager_persuasive_werewolf_persuasive_werewolf-advice-预言家_第1天白天_白天发言,\n",
       " Vertex: primary_key = aggressive_seer-related-normal_witch_normal_werewolf_normal_villager_conservative_villager_persuasive_werewolf_normal_hunter_aggressive_werewolf-advice-预言家_第1天白天_白天发言,\n",
       " Vertex: primary_key = aggressive_villager-related-conservative_werewolf_aggressive_seer_normal_hunter_persuasive_werewolf_conservative_villager_conservative_witch_aggressive_werewolf-advice-村民_第1天白天_白天发言,\n",
       " Vertex: primary_key = aggressive_werewolf-related--advice-狼人_第1天夜晚_狼人杀人,\n",
       " Vertex: primary_key = aggressive_werewolf-related-aggressive_seer_aggressive_villager_aggressive_werewolf_conservative_villager_extreme_conservative_witch_normal_hunter_normal_werewolf-advice-狼人_第1天夜晚_狼人杀人,\n",
       " Vertex: primary_key = aggressive_werewolf-related-aggressive_villager_aggressive_villager_aggressive_werewolf_aggressive_witch_normal_hunter_normal_seer_persuasive_werewolf-advice-狼人_第1天白天_白天发言,\n",
       " Vertex: primary_key = aggressive_werewolf-related-aggressive_villager_conservative_seer_conservative_villager_conservative_werewolf_conservative_werewolf_extreme_conservative_witch_normal_hunter-advice-狼人_第1天白天_白天发言,\n",
       " Vertex: primary_key = aggressive_werewolf-related-normal_seer_normal_werewolf_persuasive_werewolf_extreme_conservative_hunter_conservative_villager_conservative_villager_extreme_conservative_witch-advice-狼人_第1天白天_白天发言,\n",
       " Vertex: primary_key = aggressive_werewolf-related-normal_witch_conservative_hunter_aggressive_villager_persuasive_werewolf_conservative_villager_conservative_werewolf_aggressive_seer-advice-狼人_第1天白天_白天发言,\n",
       " Vertex: primary_key = aggressive_witch-related-aggressive_hunter_aggressive_werewolf_aggressive_werewolf_conservative_villager_normal_seer_normal_villager_persuasive_werewolf-advice-女巫_第1天夜晚_毒药决策,\n",
       " Vertex: primary_key = aggressive_witch-related-aggressive_seer_aggressive_villager_aggressive_werewolf_conservative_werewolf_extreme_conservative_hunter_normal_villager_persuasive_werewolf-advice-女巫_第1天夜晚_毒药决策,\n",
       " Vertex: primary_key = aggressive_witch-related-aggressive_seer_aggressive_villager_conservative_hunter_normal_villager_normal_werewolf_persuasive_werewolf_persuasive_werewolf-advice-女巫_第1天夜晚_毒药决策,\n",
       " Vertex: primary_key = aggressive_witch-related-aggressive_seer_aggressive_villager_normal_hunter_normal_villager_persuasive_werewolf_persuasive_werewolf_persuasive_werewolf-advice-女巫_第2天夜晚_毒药决策,\n",
       " Vertex: primary_key = aggressive_witch-related-aggressive_villager_aggressive_werewolf_conservative_hunter_conservative_werewolf_conservative_werewolf_normal_seer_normal_villager-advice-女巫_第1天白天_白天发言,\n",
       " Vertex: primary_key = aggressive_witch-related-aggressive_villager_aggressive_werewolf_conservative_seer_conservative_villager_conservative_werewolf_extreme_conservative_hunter_persuasive_werewolf-advice-女巫_第1天夜晚_解药决策,\n",
       " Vertex: primary_key = aggressive_witch-related-aggressive_villager_conservative_werewolf_extreme_conservative_hunter_normal_seer_normal_villager_normal_werewolf_persuasive_werewolf-advice-女巫_第1天白天_白天发言,\n",
       " Vertex: primary_key = aggressive_witch-related-aggressive_werewolf_conservative_hunter_conservative_villager_conservative_werewolf_conservative_werewolf_normal_seer_normal_villager-advice-女巫_第1天夜晚/第2天夜晚_解药决策,\n",
       " Vertex: primary_key = aggressive_witch-related-conservative_werewolf_normal_hunter_normal_seer_normal_villager_normal_villager_normal_werewolf_normal_werewolf-advice-女巫_第1天夜晚_解药决策,\n",
       " Vertex: primary_key = aggressive_witch-related-normal_werewolf_normal_werewolf_aggressive_werewolf_extreme_conservative_hunter_normal_villager_normal_seer_conservative_villager-advice-女巫_第1天夜晚_解药决策,\n",
       " Vertex: primary_key = conservative_hunter-related-aggressive_seer_conservative_werewolf_conservative_witch_normal_villager_normal_villager_persuasive_werewolf_persuasive_werewolf-advice-猎人_第1天白天_猎枪决策,\n",
       " Vertex: primary_key = conservative_hunter-related-conservative_seer_conservative_villager_extreme_conservative_witch_normal_villager_normal_werewolf_normal_werewolf_persuasive_werewolf-advice-猎人_第3天夜晚_猎枪决策,\n",
       " Vertex: primary_key = conservative_hunter-related-conservative_seer_normal_werewolf_normal_witch_aggressive_villager_aggressive_villager_aggressive_werewolf_conservative_werewolf-advice-猎人_第2天白天_猎枪决策,\n",
       " Vertex: primary_key = conservative_seer-related-aggressive_hunter_aggressive_villager_conservative_villager_normal_werewolf_normal_werewolf_normal_witch_persuasive_werewolf-advice-预言家_第2天白天_白天发言,\n",
       " Vertex: primary_key = conservative_seer-related-aggressive_villager_aggressive_werewolf_aggressive_werewolf_conservative_villager_extreme_conservative_hunter_extreme_conservative_witch_normal_werewolf-advice-预言家_第1天白天/第2天白天_白天发言,\n",
       " Vertex: primary_key = conservative_seer-related-aggressive_villager_conservative_werewolf_conservative_werewolf_conservative_witch_extreme_conservative_hunter_normal_villager_persuasive_werewolf-advice-预言家_第3天白天_白天发言,\n",
       " Vertex: primary_key = conservative_seer-related-aggressive_werewolf_aggressive_werewolf_conservative_villager_conservative_werewolf_conservative_witch_extreme_conservative_hunter_normal_villager-advice-预言家_第1天白天_白天发言,\n",
       " Vertex: primary_key = conservative_villager-related-aggressive_hunter_aggressive_werewolf_conservative_villager_normal_seer_normal_werewolf_normal_witch_persuasive_werewolf-advice-村民_第1天白天_白天发言,\n",
       " Vertex: primary_key = conservative_villager-related-aggressive_seer_conservative_hunter_conservative_werewolf_conservative_werewolf_extreme_conservative_witch_normal_villager_normal_werewolf-advice-村民_第1天白天_白天发言,\n",
       " Vertex: primary_key = conservative_villager-related-aggressive_seer_persuasive_werewolf_persuasive_werewolf_conservative_werewolf_normal_villager_normal_witch_extreme_conservative_hunter-advice-村民_第1天白天_白天投票,\n",
       " Vertex: primary_key = conservative_werewolf-related--advice-狼人_第1天夜晚_狼人杀人,\n",
       " Vertex: primary_key = conservative_werewolf-related-aggressive_seer_aggressive_werewolf_aggressive_werewolf_conservative_villager_extreme_conservative_witch_normal_hunter_normal_villager-advice-狼人_第1天白天_白天发言,\n",
       " Vertex: primary_key = conservative_werewolf-related-aggressive_villager_aggressive_werewolf_aggressive_werewolf_normal_hunter_normal_seer_normal_villager_normal_witch-advice-狼人_第3天夜晚_狼人杀人,\n",
       " Vertex: primary_key = conservative_werewolf-related-aggressive_werewolf_normal_hunter_normal_seer_normal_villager_normal_villager_normal_werewolf_normal_witch-advice-狼人_第1天白天_白天发言,\n",
       " Vertex: primary_key = conservative_witch-related-aggressive_hunter_aggressive_villager_aggressive_villager_aggressive_werewolf_conservative_seer_normal_werewolf_persuasive_werewolf-advice-女巫_第1天夜晚/第2天夜晚_毒药决策,\n",
       " Vertex: primary_key = conservative_witch-related-conservative_seer_conservative_villager_conservative_werewolf_normal_hunter_normal_villager_normal_werewolf_persuasive_werewolf-advice-女巫_第2天夜晚_毒药决策,\n",
       " Vertex: primary_key = conservative_witch-related-conservative_werewolf_conservative_werewolf_extreme_conservative_hunter_normal_seer_normal_villager_normal_villager_persuasive_werewolf-advice-女巫_第1天夜晚_毒药决策,\n",
       " Vertex: primary_key = conservative_witch-related-normal_werewolf_extreme_conservative_hunter_normal_werewolf_conservative_seer_aggressive_villager_normal_villager_normal_werewolf-advice-女巫_第1天夜晚_解药决策,\n",
       " Vertex: primary_key = extreme_conservative_hunter-related-aggressive_seer_aggressive_villager_conservative_villager_conservative_werewolf_conservative_werewolf_extreme_conservative_witch_normal_werewolf-advice-猎人_第3天白天_猎枪决策,\n",
       " Vertex: primary_key = extreme_conservative_hunter-related-aggressive_seer_conservative_werewolf_aggressive_witch_persuasive_werewolf_normal_villager_aggressive_villager_persuasive_werewolf-advice-猎人_第2天白天_猎枪决策,\n",
       " Vertex: primary_key = extreme_conservative_hunter-related-aggressive_villager_aggressive_werewolf_conservative_seer_conservative_villager_conservative_werewolf_conservative_witch_normal_werewolf-advice-猎人_第1天白天_白天发言,\n",
       " Vertex: primary_key = extreme_conservative_hunter-related-aggressive_villager_aggressive_werewolf_conservative_seer_conservative_werewolf_extreme_conservative_witch_normal_villager_persuasive_werewolf-advice-猎人_第1天白天_白天发言,\n",
       " Vertex: primary_key = extreme_conservative_hunter-related-extreme_conservative_witch_conservative_werewolf_persuasive_werewolf_aggressive_seer_conservative_villager_aggressive_werewolf_normal_villager-advice-猎人_第3天夜晚_猎枪决策,\n",
       " Vertex: primary_key = extreme_conservative_hunter-related-normal_werewolf_aggressive_seer_conservative_werewolf_normal_villager_extreme_conservative_witch_conservative_werewolf_aggressive_villager-advice-猎人_第2天白天_猎枪决策,\n",
       " Vertex: primary_key = extreme_conservative_witch-related-aggressive_hunter_aggressive_werewolf_aggressive_werewolf_conservative_seer_conservative_werewolf_normal_villager_normal_villager-advice-女巫_第2天夜晚_毒药决策,\n",
       " Vertex: primary_key = extreme_conservative_witch-related-aggressive_villager_aggressive_werewolf_extreme_conservative_hunter_normal_seer_normal_villager_normal_werewolf_normal_werewolf-advice-女巫_第1天夜晚_解药决策,\n",
       " Vertex: primary_key = extreme_conservative_witch-related-aggressive_werewolf_aggressive_werewolf_aggressive_werewolf_conservative_seer_conservative_villager_extreme_conservative_hunter_normal_villager-advice-女巫_第1天白天_白天发言,\n",
       " Vertex: primary_key = extreme_conservative_witch-related-aggressive_werewolf_aggressive_werewolf_conservative_hunter_conservative_seer_conservative_villager_conservative_werewolf_normal_villager-advice-女巫_第1天夜晚/第2天夜晚_解药决策,\n",
       " Vertex: primary_key = extreme_conservative_witch-related-conservative_hunter_conservative_seer_conservative_villager_conservative_werewolf_conservative_werewolf_normal_villager_persuasive_werewolf-advice-女巫_第1天夜晚_解药决策,\n",
       " Vertex: primary_key = normal_hunter-related-aggressive_villager_aggressive_werewolf_conservative_seer_conservative_villager_conservative_witch_normal_werewolf_persuasive_werewolf-advice-猎人_第1天白天_白天发言,\n",
       " Vertex: primary_key = normal_hunter-related-aggressive_werewolf_conservative_seer_conservative_villager_conservative_villager_conservative_werewolf_normal_werewolf_normal_witch-advice-猎人_第1天白天_白天发言,\n",
       " Vertex: primary_key = normal_seer-related-aggressive_hunter_aggressive_villager_aggressive_werewolf_conservative_werewolf_extreme_conservative_witch_normal_villager_persuasive_werewolf-advice-预言家_第1天白天_白天发言,\n",
       " Vertex: primary_key = normal_seer-related-aggressive_hunter_aggressive_werewolf_conservative_villager_conservative_villager_extreme_conservative_witch_normal_werewolf_normal_werewolf-advice-预言家_第2天白天_白天发言,\n",
       " Vertex: primary_key = normal_seer-related-aggressive_villager_aggressive_villager_aggressive_werewolf_aggressive_werewolf_conservative_hunter_normal_werewolf_normal_witch-advice-预言家_第1天白天_白天发言,\n",
       " Vertex: primary_key = normal_seer-related-aggressive_villager_aggressive_villager_conservative_hunter_conservative_werewolf_conservative_werewolf_normal_werewolf_normal_witch-advice-预言家_第1天白天_白天发言,\n",
       " Vertex: primary_key = normal_seer-related-aggressive_villager_aggressive_werewolf_aggressive_werewolf_aggressive_witch_conservative_hunter_conservative_villager_persuasive_werewolf-advice-预言家_第1天白天_白天发言,\n",
       " Vertex: primary_key = normal_seer-related-aggressive_villager_aggressive_werewolf_aggressive_werewolf_conservative_hunter_conservative_villager_conservative_werewolf_extreme_conservative_witch-advice-预言家_第1天白天_白天发言,\n",
       " Vertex: primary_key = normal_seer-related-aggressive_villager_aggressive_werewolf_conservative_hunter_conservative_villager_extreme_conservative_witch_normal_werewolf_normal_werewolf-advice-预言家_第1天白天_白天发言,\n",
       " Vertex: primary_key = normal_seer-related-aggressive_villager_aggressive_werewolf_conservative_werewolf_extreme_conservative_hunter_extreme_conservative_witch_normal_villager_persuasive_werewolf-advice-预言家_第1天白天_白天发言,\n",
       " Vertex: primary_key = normal_seer-related-aggressive_villager_aggressive_werewolf_conservative_witch_normal_hunter_normal_villager_normal_werewolf_normal_werewolf-advice-预言家_第1天白天_白天发言,\n",
       " Vertex: primary_key = normal_seer-related-aggressive_villager_aggressive_witch_conservative_werewolf_conservative_werewolf_normal_hunter_normal_villager_persuasive_werewolf-advice-预言家_第1天白天_白天投票,\n",
       " Vertex: primary_key = normal_seer-related-aggressive_villager_conservative_hunter_conservative_villager_conservative_werewolf_conservative_werewolf_extreme_conservative_witch_normal_werewolf-advice-预言家_第1天白天_白天发言,\n",
       " Vertex: primary_key = normal_seer-related-aggressive_villager_conservative_villager_conservative_werewolf_conservative_werewolf_extreme_conservative_hunter_normal_werewolf_normal_witch-advice-预言家_第1天白天_白天发言,\n",
       " Vertex: primary_key = normal_seer-related-aggressive_villager_conservative_werewolf_normal_hunter_normal_villager_normal_werewolf_normal_witch_persuasive_werewolf-advice-预言家_第1天白天_白天发言,\n",
       " Vertex: primary_key = normal_seer-related-aggressive_werewolf_conservative_hunter_conservative_villager_conservative_werewolf_normal_villager_normal_werewolf_normal_witch-advice-预言家_第1天白天_白天发言,\n",
       " Vertex: primary_key = normal_seer-related-aggressive_werewolf_conservative_villager_conservative_werewolf_conservative_witch_extreme_conservative_hunter_normal_villager_normal_werewolf-advice-预言家_第1天白天_白天发言,\n",
       " Vertex: primary_key = normal_seer-related-aggressive_witch_conservative_hunter_conservative_villager_conservative_werewolf_conservative_werewolf_normal_villager_persuasive_werewolf-advice-预言家_第1天白天 / 第2天白天_白天发言,\n",
       " Vertex: primary_key = normal_seer-related-conservative_werewolf_normal_villager_conservative_villager_conservative_werewolf_normal_witch_aggressive_hunter_normal_werewolf-advice-预言家_第1天白天_白天发言,\n",
       " Vertex: primary_key = normal_villager-related-aggressive_seer_aggressive_villager_aggressive_werewolf_conservative_hunter_conservative_werewolf_normal_werewolf_normal_witch-advice-村民_第1天白天_白天发言,\n",
       " Vertex: primary_key = normal_villager-related-aggressive_seer_aggressive_werewolf_conservative_hunter_conservative_witch_normal_villager_persuasive_werewolf_persuasive_werewolf-advice-村民_第1天白天_白天发言,\n",
       " Vertex: primary_key = normal_villager-related-aggressive_werewolf_conservative_hunter_conservative_villager_conservative_werewolf_conservative_witch_normal_seer_normal_werewolf-advice-村民_第1天白天_白天发言,\n",
       " Vertex: primary_key = normal_werewolf-related--advice-狼人_第1天夜晚_狼人杀人,\n",
       " Vertex: primary_key = normal_werewolf-related-aggressive_hunter_aggressive_werewolf_aggressive_werewolf_conservative_seer_conservative_villager_conservative_witch_normal_villager-advice-狼人_第2天白天_白天发言,\n",
       " Vertex: primary_key = normal_werewolf-related-aggressive_hunter_conservative_werewolf_aggressive_villager_aggressive_werewolf_extreme_conservative_witch_normal_seer_normal_villager-advice-狼人_第1天白天_白天发言,\n",
       " Vertex: primary_key = normal_werewolf-related-aggressive_seer_aggressive_werewolf_conservative_villager_conservative_villager_conservative_witch_extreme_conservative_hunter_persuasive_werewolf-advice-狼人_第1天白天/第2天白天_白天发言,\n",
       " Vertex: primary_key = normal_werewolf-related-aggressive_seer_aggressive_werewolf_conservative_villager_conservative_werewolf_extreme_conservative_witch_normal_hunter_normal_villager-advice-狼人_第1天白天/第2天白天_白天发言,\n",
       " Vertex: primary_key = normal_werewolf-related-aggressive_villager_aggressive_seer_aggressive_werewolf_extreme_conservative_hunter_normal_villager_extreme_conservative_witch_aggressive_werewolf-advice-狼人_第2天白天_白天发言,\n",
       " Vertex: primary_key = normal_werewolf-related-aggressive_villager_aggressive_werewolf_aggressive_witch_conservative_seer_conservative_werewolf_extreme_conservative_hunter_normal_villager-advice-狼人_第1天白天_白天发言,\n",
       " Vertex: primary_key = normal_werewolf-related-conservative_seer_conservative_hunter_normal_werewolf_conservative_werewolf_conservative_villager_extreme_conservative_witch_conservative_villager-advice-狼人_第1天白天_白天发言,\n",
       " Vertex: primary_key = normal_werewolf-related-conservative_witch_aggressive_hunter_normal_villager_persuasive_werewolf_aggressive_seer_normal_villager_normal_werewolf-advice-狼人_第1天白天_白天发言,\n",
       " Vertex: primary_key = normal_werewolf-related-extreme_conservative_witch_conservative_seer_aggressive_werewolf_normal_villager_normal_villager_normal_hunter_aggressive_werewolf-advice-狼人_第1天白天_白天发言,\n",
       " Vertex: primary_key = normal_witch-related-aggressive_hunter_aggressive_seer_aggressive_villager_normal_villager_normal_werewolf_normal_werewolf_normal_werewolf-advice-女巫_第2天白天_白天发言,\n",
       " Vertex: primary_key = normal_witch-related-aggressive_seer_aggressive_werewolf_aggressive_werewolf_conservative_werewolf_extreme_conservative_hunter_normal_villager_normal_villager-advice-女巫_第1天白天/第2天白天_白天发言,\n",
       " Vertex: primary_key = normal_witch-related-aggressive_seer_conservative_hunter_conservative_villager_conservative_werewolf_normal_villager_persuasive_werewolf_persuasive_werewolf-advice-女巫_第1天夜晚 / 第2天夜晚_解药决策,\n",
       " Vertex: primary_key = normal_witch-related-aggressive_villager_aggressive_villager_aggressive_werewolf_conservative_hunter_conservative_seer_persuasive_werewolf_persuasive_werewolf-advice-女巫_第1天白天_白天发言,\n",
       " Vertex: primary_key = normal_witch-related-aggressive_villager_aggressive_werewolf_conservative_werewolf_extreme_conservative_hunter_normal_seer_normal_villager_normal_werewolf-advice-女巫_第2天夜晚_毒药决策,\n",
       " Vertex: primary_key = normal_witch-related-aggressive_villager_normal_werewolf_normal_villager_conservative_werewolf_aggressive_werewolf_extreme_conservative_hunter_aggressive_seer-advice-女巫_第1天夜晚_解药决策,\n",
       " Vertex: primary_key = normal_witch-related-aggressive_werewolf_aggressive_villager_conservative_werewolf_normal_seer_conservative_hunter_normal_villager_conservative_werewolf-advice-女巫_第1天夜晚_解药决策,\n",
       " Vertex: primary_key = normal_witch-related-conservative_hunter_conservative_villager_conservative_villager_conservative_werewolf_normal_seer_normal_werewolf_persuasive_werewolf-advice-女巫_第1天夜晚_解药决策,\n",
       " Vertex: primary_key = persuasive_werewolf-related--advice-狼人_第1天夜晚_狼人杀人,\n",
       " Vertex: primary_key = persuasive_werewolf-related-aggressive_hunter_aggressive_seer_aggressive_villager_aggressive_villager_aggressive_werewolf_aggressive_witch_conservative_werewolf-advice-狼人_第1天白天_白天发言,\n",
       " Vertex: primary_key = persuasive_werewolf-related-aggressive_werewolf_conservative_hunter_conservative_seer_conservative_werewolf_extreme_conservative_witch_normal_villager_normal_villager-advice-狼人_第1天白天_白天发言,\n",
       " Vertex: primary_key = persuasive_werewolf-related-extreme_conservative_witch_aggressive_werewolf_normal_villager_aggressive_villager_persuasive_werewolf_conservative_seer_conservative_hunter-advice-狼人_第2天白天_白天发言,\n",
       " Vertex: primary_key = persuasive_werewolf-related-normal_seer_conservative_witch_aggressive_villager_persuasive_werewolf_normal_hunter_persuasive_werewolf_aggressive_villager-advice-狼人_第3天白天_白天发言}"
      ]
     },
     "execution_count": 68,
     "metadata": {},
     "output_type": "execute_result"
    }
   ],
   "source": [
    "import pygraphs as pg\n",
    "G= pg.load_db('graph_werewolf.db')\n",
    "a=G.query(condition_vertex=lambda x:x['Type']=='advice')\n",
    "a"
   ]
  },
  {
   "cell_type": "code",
   "execution_count": 52,
   "id": "8479ca34",
   "metadata": {},
   "outputs": [
    {
     "data": {
      "text/plain": [
       "0"
      ]
     },
     "execution_count": 52,
     "metadata": {},
     "output_type": "execute_result"
    }
   ],
   "source": [
    "import random\n",
    "a=random.randint(0,0)\n",
    "a"
   ]
  },
  {
   "cell_type": "code",
   "execution_count": null,
   "id": "79ca8f39",
   "metadata": {},
   "outputs": [],
   "source": []
  },
  {
   "cell_type": "code",
   "execution_count": null,
   "id": "70a0ecf6",
   "metadata": {},
   "outputs": [],
   "source": []
  },
  {
   "cell_type": "code",
   "execution_count": null,
   "id": "c2aef1fc",
   "metadata": {},
   "outputs": [],
   "source": []
  }
 ],
 "metadata": {
  "kernelspec": {
   "display_name": "Python 3 (ipykernel)",
   "language": "python",
   "name": "python3"
  },
  "language_info": {
   "codemirror_mode": {
    "name": "ipython",
    "version": 3
   },
   "file_extension": ".py",
   "mimetype": "text/x-python",
   "name": "python",
   "nbconvert_exporter": "python",
   "pygments_lexer": "ipython3",
   "version": "3.10.9"
  }
 },
 "nbformat": 4,
 "nbformat_minor": 5
}
