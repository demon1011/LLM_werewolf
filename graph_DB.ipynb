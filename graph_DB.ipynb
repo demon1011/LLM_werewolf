{
 "cells": [
  {
   "cell_type": "code",
   "execution_count": 10,
   "id": "1ee9a511",
   "metadata": {},
   "outputs": [
    {
     "name": "stdout",
     "output_type": "stream",
     "text": [
      "{'Tom': Vertex: primary_key = Tom, 'Kitty': Vertex: primary_key = Kitty, 'Jimmy': Vertex: primary_key = Jimmy}\n"
     ]
    }
   ],
   "source": [
    "import pygraphs as pg\n",
    "\n",
    "G = pg.Graph()\n",
    "# 从csv读取节点并加入图数据库\n",
    "# G.add_vertexes_from_file(filename='Vertexes.csv')\n",
    "\n",
    "# 从list读取节点并加入图数据库\n",
    "vertexes_list = [['Tom', {'age': 10}],\n",
    "                 ['Kitty', {'sex': 'female'}],\n",
    "                 ['Jimmy', {'sex': 'male', 'age': 35}]\n",
    "                 ]\n",
    "G.add_vertexes_from_list(vertexes_list=vertexes_list)\n",
    "\n",
    "print(G.vertexes)"
   ]
  },
  {
   "cell_type": "code",
   "execution_count": 11,
   "id": "e36fd39d",
   "metadata": {},
   "outputs": [
    {
     "name": "stdout",
     "output_type": "stream",
     "text": [
      "{Edge: Kitty->Jimmy, Edge: Tom->Jimmy}\n"
     ]
    }
   ],
   "source": [
    "# 从csv读取关系并加入图数据库\n",
    "# G.add_edges_from_file(filename='Edges.csv')\n",
    "\n",
    "# 从 list 读取并加入图数据库\n",
    "edges_list = [['Tom', {'relation': 'son'}, 'Jimmy'],\n",
    "              ['Kitty', {'relation': 'wife'}, 'Jimmy'],\n",
    "              ]\n",
    "G.add_edges_from_list(edges_list=edges_list)\n",
    "print(G.edges)"
   ]
  },
  {
   "cell_type": "code",
   "execution_count": 13,
   "id": "5e9b2d77",
   "metadata": {},
   "outputs": [
    {
     "name": "stdout",
     "output_type": "stream",
     "text": [
      "Vertex: primary_key = Kitty\n",
      "set()\n",
      "{Edge: Tom->Jimmy}\n"
     ]
    }
   ],
   "source": [
    "# 按照主键来查询\n",
    "print(G.vertexes['Kitty'])\n",
    "\n",
    "# 按特定过滤条件查询节点\n",
    "young_people = G.query(condition_vertex=lambda x: ('born' in x) and x['born'] > '1975')\n",
    "print(young_people)\n",
    "\n",
    "# 按特定过滤条件查询边\n",
    "relation_son = G.query(condition_edge=lambda x: 'relation' in x and x['relation'] == 'son')\n",
    "print(relation_son)"
   ]
  },
  {
   "cell_type": "code",
   "execution_count": 14,
   "id": "a548a810",
   "metadata": {},
   "outputs": [],
   "source": [
    "for edge in G.edges:\n",
    "    if 'type' in edge.val and edge.val['type'] == 'acted_in':\n",
    "        src = edge.src\n",
    "        if 'born' in src.val and src.val['born'] > '1975':\n",
    "            print(src, ';', edge)"
   ]
  },
  {
   "cell_type": "code",
   "execution_count": 15,
   "id": "8fb83700",
   "metadata": {},
   "outputs": [],
   "source": [
    "# 删边，G.del_edges 批量删，G.del_edge 单个删\n",
    "G.del_edges(edges_to_del=relation_son)\n",
    "\n",
    "# 删节点，G.del_vertexes 批量删，G.del_vertex 单个删\n",
    "G.del_vertex(vertex_to_del=G.vertexes['Tom'])"
   ]
  },
  {
   "cell_type": "code",
   "execution_count": 16,
   "id": "c108505c",
   "metadata": {},
   "outputs": [
    {
     "name": "stdout",
     "output_type": "stream",
     "text": [
      "{'relation': 'husband'}\n"
     ]
    }
   ],
   "source": [
    "edge_to_set = list(G.vertexes['Kitty'].dst)[0]\n",
    "self = G.set_val(edge_to_set, {'relation': 'husband'})\n",
    "print(edge_to_set.val)"
   ]
  },
  {
   "cell_type": "code",
   "execution_count": 17,
   "id": "149ac896",
   "metadata": {},
   "outputs": [],
   "source": [
    "pg.save_db(G, 'db_file.db')"
   ]
  },
  {
   "cell_type": "code",
   "execution_count": 18,
   "id": "a36c631f",
   "metadata": {},
   "outputs": [],
   "source": [
    "G_new = pg.load_db('db_file.db')"
   ]
  },
  {
   "cell_type": "code",
   "execution_count": null,
   "id": "3ccf5b48",
   "metadata": {},
   "outputs": [],
   "source": []
  },
  {
   "cell_type": "code",
   "execution_count": null,
   "id": "f9325f98",
   "metadata": {},
   "outputs": [],
   "source": []
  },
  {
   "cell_type": "code",
   "execution_count": null,
   "id": "15b87c54",
   "metadata": {},
   "outputs": [],
   "source": []
  },
  {
   "cell_type": "code",
   "execution_count": null,
   "id": "bde536e1",
   "metadata": {},
   "outputs": [],
   "source": []
  },
  {
   "cell_type": "code",
   "execution_count": null,
   "id": "0689b161",
   "metadata": {},
   "outputs": [],
   "source": []
  }
 ],
 "metadata": {
  "kernelspec": {
   "display_name": "Python 3 (ipykernel)",
   "language": "python",
   "name": "python3"
  },
  "language_info": {
   "codemirror_mode": {
    "name": "ipython",
    "version": 3
   },
   "file_extension": ".py",
   "mimetype": "text/x-python",
   "name": "python",
   "nbconvert_exporter": "python",
   "pygments_lexer": "ipython3",
   "version": "3.10.9"
  }
 },
 "nbformat": 4,
 "nbformat_minor": 5
}
