{
 "cells": [
  {
   "cell_type": "code",
   "execution_count": 170,
   "id": "23d6b6da",
   "metadata": {},
   "outputs": [],
   "source": [
    "import numpy as np\n",
    "import random\n",
    "import langchain\n",
    "from langchain.llms.base import LLM\n",
    "import json\n",
    "import re\n",
    "import sqlite3\n",
    "from datetime import datetime"
   ]
  },
  {
   "cell_type": "code",
   "execution_count": 30,
   "id": "d2094f29",
   "metadata": {},
   "outputs": [],
   "source": [
    "#分配角色\n",
    "char_quota={\"seer\":1,\"witch\":1,\"hunter\":1,\"villager\":2,\"werewolf\":3}"
   ]
  },
  {
   "cell_type": "code",
   "execution_count": 31,
   "id": "738667a4",
   "metadata": {},
   "outputs": [
    {
     "data": {
      "text/plain": [
       "[6, 7, 0, 4, 1, 5, 2, 3]"
      ]
     },
     "execution_count": 31,
     "metadata": {},
     "output_type": "execute_result"
    }
   ],
   "source": [
    "numbers=list(range(8))\n",
    "random.shuffle(numbers)\n",
    "numbers"
   ]
  },
  {
   "cell_type": "code",
   "execution_count": 32,
   "id": "15a4a0ba",
   "metadata": {},
   "outputs": [
    {
     "data": {
      "text/plain": [
       "{6: 'seer',\n",
       " 7: 'witch',\n",
       " 0: 'hunter',\n",
       " 4: 'villager',\n",
       " 1: 'villager',\n",
       " 5: 'werewolf',\n",
       " 2: 'werewolf',\n",
       " 3: 'werewolf'}"
      ]
     },
     "execution_count": 32,
     "metadata": {},
     "output_type": "execute_result"
    }
   ],
   "source": [
    "char_dist={}\n",
    "char_dist[numbers[0]]=\"seer\"\n",
    "char_dist[numbers[1]]=\"witch\"\n",
    "char_dist[numbers[2]]=\"hunter\"\n",
    "char_dist[numbers[3]]=\"villager\"\n",
    "char_dist[numbers[4]]=\"villager\"\n",
    "char_dist[numbers[5]]=\"werewolf\"\n",
    "char_dist[numbers[6]]=\"werewolf\"\n",
    "char_dist[numbers[7]]=\"werewolf\"\n",
    "char_dist"
   ]
  },
  {
   "cell_type": "code",
   "execution_count": 44,
   "id": "bd485edf",
   "metadata": {},
   "outputs": [],
   "source": [
    "#存活状态确认\n",
    "aliv_list=list(range(8))\n",
    "def char_alive_check(aliv_list,char_dist):\n",
    "    char_aliv=[]\n",
    "    for i in aliv_list:\n",
    "        char_aliv.append(char_dist[i])\n",
    "    return set(char_aliv)\n",
    "a=char_alive_check(aliv_list,char_dist)"
   ]
  },
  {
   "cell_type": "code",
   "execution_count": 28,
   "id": "1876b0f8",
   "metadata": {},
   "outputs": [],
   "source": [
    "#角色初始定义"
   ]
  },
  {
   "cell_type": "code",
   "execution_count": 151,
   "id": "a5a3b6a8",
   "metadata": {
    "scrolled": true
   },
   "outputs": [],
   "source": [
    "#大模型agent定义\n",
    "import random\n",
    "from http import HTTPStatus\n",
    "import dashscope\n",
    "from dashscope import Generation  # 建议dashscope SDK 的版本 >= 1.14.0\n",
    "\n",
    "class base_llm():\n",
    "    def __init__(self,system_prompt):\n",
    "        self.api_key=\"sk-aaea7be7ccc047969804242b55c3aa53\"\n",
    "        self.system_prompt=system_prompt\n",
    "    def call_with_messages(self,prompt_info):\n",
    "        messages = [{'role': 'system', 'content': self.system_prompt},\n",
    "                    {'role': 'user', 'content': prompt_info}]\n",
    "        dashscope.api_key=self.api_key\n",
    "        response = Generation.call(model=\"qwen-max-0107\",\n",
    "                                   messages=messages,\n",
    "                                   # 设置随机数种子seed，如果没有设置，则随机数种子默认为1234\n",
    "                                   seed=random.randint(1, 10000),\n",
    "                                   # 将输出设置为\"message\"格式\n",
    "                                   result_format='message')\n",
    "        if response.status_code == HTTPStatus.OK:\n",
    "            return response.output.choices[0].message.content\n",
    "        else:\n",
    "            return ('Request id: %s, Status code: %s, error code: %s, error message: %s' % (\n",
    "                response.request_id, response.status_code,\n",
    "                response.code, response.message))"
   ]
  },
  {
   "cell_type": "code",
   "execution_count": 152,
   "id": "176ac989",
   "metadata": {
    "scrolled": false
   },
   "outputs": [
    {
     "data": {
      "text/plain": [
       "'珠穆朗玛峰（Mount Everest）是世界上海拔最高的山峰，位于喜马拉雅山脉中，其海拔高度为8,848.86米（29,031.7英尺），这是2020年中国和尼泊尔共同宣布的最新测量数据。'"
      ]
     },
     "execution_count": 152,
     "metadata": {},
     "output_type": "execute_result"
    }
   ],
   "source": [
    "a=base_llm(system_prompt=\"你是一个聪明的助理\")\n",
    "b=a.call_with_messages(\"世界上最高的山峰是什么\")\n",
    "b"
   ]
  },
  {
   "cell_type": "code",
   "execution_count": 150,
   "id": "64e68c8d",
   "metadata": {},
   "outputs": [
    {
     "data": {
      "text/plain": [
       "'珠穆朗玛峰，位于喜马拉雅山脉中，是世界海拔最高的山峰，其海拔高度为8,848.86米（2020年最新测量数据）。'"
      ]
     },
     "execution_count": 150,
     "metadata": {},
     "output_type": "execute_result"
    }
   ],
   "source": [
    "# b.output.choices[0].message.content\n",
    "# def extract_content(response):\n",
    "#     response=json.loads(response)\n",
    "#     for choice in response.get('output', {}).get('choices', []):\n",
    "#         if 'message' in choice and 'content' in choice['message']:\n",
    "#             return choice['message']['content']\n",
    "#     return None\n",
    "\n",
    "# # 使用函数提取content\n",
    "# content = extract_content(b)\n",
    "# print(content)"
   ]
  },
  {
   "cell_type": "code",
   "execution_count": 102,
   "id": "9549b623",
   "metadata": {},
   "outputs": [],
   "source": [
    "game_intro='''《狼人杀》是一款社交推理游戏，游戏模拟了一个小村庄里村民与狼人之间的斗争。游戏目标根据不同角色有所不同，村民方需要找出并消灭所有狼人，狼人方则要尽可能消灭村民，直至狼人数量等于或多于村民数量。\n",
    "根据你提供的角色设置，这里有1个预言家、1个女巫、1个猎人、2个村民和3个狼人。下面是这些角色的基本职能和游戏的简要规则：\n",
    "- 预言家：每个夜晚可以查验一名玩家的身份，了解这名玩家是村民方还是狼人方。\n",
    "- 女巫：拥有两瓶药水，一瓶可以救活当夜被狼人杀害的玩家，另一瓶可以在夜晚毒杀一名玩家。每瓶药水只能使用一次。\n",
    "- 猎人：在被淘汰时（不论是白天被投票淘汰还是夜里被狼人杀害），可以开枪带走一名玩家。\n",
    "- 村民：没有特殊能力，主要通过讨论和投票来识别狼人。\n",
    "- 狼人：每个夜晚会选择杀害一名玩家，目标是消灭所有村民，获得游戏胜利。\n",
    "游戏流程大致如下：\n",
    "- 游戏开始时，每位玩家随机分配一个角色，并保密自己的身份。\n",
    "- 游戏分为夜晚和白天两个阶段。\n",
    "- 夜晚：所有玩家闭眼，游戏主持人（通常称为法官）指挥特定角色的玩家按顺序睁眼执行他们的能力。首先是狼人相互确认身份，然后选择一个玩家作为杀害目标。随后，预言家可以查验一名玩家的身份，女巫会被告知狼人的杀害目标，决定是否使用药水。\n",
    "- 白天：所有玩家睁眼。如果有玩家在夜里被杀害，法官会宣布该玩家死亡（除非被女巫救活）。然后所有存活的玩家进行讨论，最后进行投票，票数最多的玩家被淘汰出局。如果猎人被淘汰，他可以使用他的技能。\n",
    "- 游戏继续进行，直到村民方或狼人方达成胜利条件。村民方胜利条件是所有狼人被消灭，狼人方胜利条件是狼人数量等于或多于存活的非狼人玩家数量。\n",
    "'''\n",
    "char_intro_werewolf='''你在玩一局狼人杀游戏，这是一个8人局，其中包含3个狼人、2个村民和3个神（预言家、女巫和猎人），这局中你抽到的角色是狼人，游戏开始时你知道你的狼人队友身份，你不知道其他玩家的身份。\n",
    "    你和你的狼人队友属于狼人阵营，你们的胜利条件是消灭所有的村民或者所有的神。你的特殊能力是和狼人队友在晚上讨论后消灭一名玩家。\n",
    "    因此在游戏中你的工作包括以下内容：\n",
    "    1.在夜晚和狼队友讨论后投票杀掉一个玩家。\n",
    "    2.白天发表言论，保护自己和狼人队友，让大家投票杀掉一个玩家。\n",
    "'''\n",
    "char_intro_seer='''你在玩一局狼人杀游戏，这是一个8人局，其中包含3个狼人、2个村民和3个神（预言家、女巫和猎人），这局中你抽到的角色是预言家，游戏开始时你不知道其他玩家的身份。\n",
    "    你和所有神以及村民属于人类阵营，你们的胜利条件是消灭所有的狼人。你的特殊能力是可以在夜晚验明一个玩家的真实身份。\n",
    "    因此在游戏中你的工作包括以下内容：\n",
    "    1.通过你的预言家身份，在夜晚查验某个玩家的身份。\n",
    "    2.在白天，把你得到的信息告诉大家，如果你查验身份的玩家属于人类阵营，通过发言保护这个玩家不被投票消灭；如果你查验身份的玩家是狼人，引导大家用可能的方式消灭他。\n",
    "'''\n",
    "char_intro_witch='''你在玩一局狼人杀游戏，这是一个8人局，其中包含3个狼人、2个村民和3个神（预言家、女巫和猎人），这局中你抽到的角色是女巫，游戏开始时你不知道其他玩家的身份。\n",
    "    你和所有神以及村民属于人类阵营，你们的胜利条件是消灭所有的狼人。你的特殊能力是有一瓶起死回生的解药和一瓶杀人的毒药，你可以在夜晚决定是否用解药救下被狼人杀掉的玩家，或者用毒药杀掉一个玩家，注意一局游戏中两种药都只能用一次。\n",
    "    因此在游戏中你的工作包括以下内容：\n",
    "    1.在夜晚，根据你对当前形式的判断，决定是否用解药救下某个被杀掉的玩家，或者是否用毒药杀掉某个玩家。\n",
    "    2.在白天发表言论，根据你观察到的信息决定保护人类阵营的玩家，同时帮大家找到狼人并投票杀掉狼人玩家。\n",
    "'''\n",
    "char_intro_hunter='''你在玩一局狼人杀游戏，这是一个8人局，其中包含3个狼人、2个村民和3个神（预言家、女巫和猎人），这局中你抽到的角色是猎人，游戏开始时你不知道其他玩家的身份。\n",
    "    你和所有神以及村民属于人类阵营，你们的胜利条件是消灭所有的狼人。你的特殊能力是有一把猎枪，当你以任意方式死亡时，你可以立即决定是否用猎枪消灭一名玩家。\n",
    "    因此在游戏中你的工作包括以下内容：\n",
    "    1.在白天发表言论，根据你的推理保护人类阵营玩家，找到狼人玩家并投票消灭他们。\n",
    "    2.当你死亡时，根据你的判断决定是否杀掉某个你认为一定是狼人的玩家，或者不开枪以免误伤人类阵营队友；\n",
    "'''\n",
    "char_intro_villager='''你在玩一局狼人杀游戏，这是一个8人局，其中包含3个狼人、2个村民和3个神（预言家、女巫和猎人），这局中你抽到的角色是村民，游戏开始时你不知道其他玩家的身份。\n",
    "    你和所有神以及村民属于人类阵营，你们的胜利条件是消灭所有的狼人。你没有任何特殊能力。\n",
    "    因此在游戏中你的工作包括以下内容：\n",
    "    1.在白天发表言论，根据你的推理保护人类阵营玩家，找到狼人玩家并投票消灭他们。\n",
    "'''"
   ]
  },
  {
   "cell_type": "code",
   "execution_count": 120,
   "id": "960bfe52",
   "metadata": {},
   "outputs": [],
   "source": [
    "def char_info_initialize(char_dist):\n",
    "    char_info_dic={}\n",
    "    for i in char_dist.keys():\n",
    "        if char_dist[i]=='villager':\n",
    "            info=game_intro+char_intro_villager+\"你是%d号玩家，你的身份是村民。\\n\"%(i)\n",
    "            char_info_dic[i]=info\n",
    "        elif char_dist[i]=='seer':\n",
    "            info=game_intro+char_intro_villager+\"你是%d号玩家，你的身份是预言家。\\n\"%(i)\n",
    "            char_info_dic[i]=info\n",
    "        elif char_dist[i]=='witch':\n",
    "            info=game_intro+char_intro_villager+\"你是%d号玩家，你的身份是女巫。\\n\"%(i)\n",
    "            char_info_dic[i]=info\n",
    "        elif char_dist[i]=='werewolf':\n",
    "            werewolf_list=[key for key,value in char_dist.items() if value=='werewolf']\n",
    "            werewolf_list.remove(i)\n",
    "            info=game_intro+char_intro_villager+\"你是%d号玩家，你的身份是狼人，你的狼人队友包括\"%(i)\n",
    "            for j in werewolf_list:\n",
    "                info+=\"%d号玩家、\"%(j)\n",
    "            info=info[:-1]+\"。\\n\"\n",
    "            char_info_dic[i]=info\n",
    "    return char_info_dic"
   ]
  },
  {
   "cell_type": "code",
   "execution_count": 121,
   "id": "8ef69903",
   "metadata": {
    "scrolled": true
   },
   "outputs": [
    {
     "data": {
      "text/plain": [
       "{6: '《狼人杀》是一款社交推理游戏，游戏模拟了一个小村庄里村民与狼人之间的斗争。游戏目标根据不同角色有所不同，村民方需要找出并消灭所有狼人，狼人方则要尽可能消灭村民，直至狼人数量等于或多于村民数量。\\n根据你提供的角色设置，这里有1个预言家、1个女巫、1个猎人、2个村民和3个狼人。下面是这些角色的基本职能和游戏的简要规则：\\n- 预言家：每个夜晚可以查验一名玩家的身份，了解这名玩家是村民方还是狼人方。\\n- 女巫：拥有两瓶药水，一瓶可以救活当夜被狼人杀害的玩家，另一瓶可以在夜晚毒杀一名玩家。每瓶药水只能使用一次。\\n- 猎人：在被淘汰时（不论是白天被投票淘汰还是夜里被狼人杀害），可以开枪带走一名玩家。\\n- 村民：没有特殊能力，主要通过讨论和投票来识别狼人。\\n- 狼人：每个夜晚会选择杀害一名玩家，目标是消灭所有村民，获得游戏胜利。\\n游戏流程大致如下：\\n- 游戏开始时，每位玩家随机分配一个角色，并保密自己的身份。\\n- 游戏分为夜晚和白天两个阶段。\\n- 夜晚：所有玩家闭眼，游戏主持人（通常称为法官）指挥特定角色的玩家按顺序睁眼执行他们的能力。首先是狼人相互确认身份，然后选择一个玩家作为杀害目标。随后，预言家可以查验一名玩家的身份，女巫会被告知狼人的杀害目标，决定是否使用药水。\\n- 白天：所有玩家睁眼。如果有玩家在夜里被杀害，法官会宣布该玩家死亡（除非被女巫救活）。然后所有存活的玩家进行讨论，最后进行投票，票数最多的玩家被淘汰出局。如果猎人被淘汰，他可以使用他的技能。\\n- 游戏继续进行，直到村民方或狼人方达成胜利条件。村民方胜利条件是所有狼人被消灭，狼人方胜利条件是狼人数量等于或多于存活的非狼人玩家数量。\\n你在玩一局狼人杀游戏，这是一个8人局，其中包含3个狼人、2个村民和3个神（预言家、女巫和猎人），这局中你抽到的角色是村民，游戏开始时你不知道其他玩家的身份。\\n    你和所有神以及村民属于人类阵营，你们的胜利条件是消灭所有的狼人。你没有任何特殊能力。\\n    因此在游戏中你的工作包括以下内容：\\n    1.在白天发表言论，根据你的推理保护人类阵营玩家，找到狼人玩家并投票消灭他们。\\n你是6号玩家，你的身份是预言家。',\n",
       " 7: '《狼人杀》是一款社交推理游戏，游戏模拟了一个小村庄里村民与狼人之间的斗争。游戏目标根据不同角色有所不同，村民方需要找出并消灭所有狼人，狼人方则要尽可能消灭村民，直至狼人数量等于或多于村民数量。\\n根据你提供的角色设置，这里有1个预言家、1个女巫、1个猎人、2个村民和3个狼人。下面是这些角色的基本职能和游戏的简要规则：\\n- 预言家：每个夜晚可以查验一名玩家的身份，了解这名玩家是村民方还是狼人方。\\n- 女巫：拥有两瓶药水，一瓶可以救活当夜被狼人杀害的玩家，另一瓶可以在夜晚毒杀一名玩家。每瓶药水只能使用一次。\\n- 猎人：在被淘汰时（不论是白天被投票淘汰还是夜里被狼人杀害），可以开枪带走一名玩家。\\n- 村民：没有特殊能力，主要通过讨论和投票来识别狼人。\\n- 狼人：每个夜晚会选择杀害一名玩家，目标是消灭所有村民，获得游戏胜利。\\n游戏流程大致如下：\\n- 游戏开始时，每位玩家随机分配一个角色，并保密自己的身份。\\n- 游戏分为夜晚和白天两个阶段。\\n- 夜晚：所有玩家闭眼，游戏主持人（通常称为法官）指挥特定角色的玩家按顺序睁眼执行他们的能力。首先是狼人相互确认身份，然后选择一个玩家作为杀害目标。随后，预言家可以查验一名玩家的身份，女巫会被告知狼人的杀害目标，决定是否使用药水。\\n- 白天：所有玩家睁眼。如果有玩家在夜里被杀害，法官会宣布该玩家死亡（除非被女巫救活）。然后所有存活的玩家进行讨论，最后进行投票，票数最多的玩家被淘汰出局。如果猎人被淘汰，他可以使用他的技能。\\n- 游戏继续进行，直到村民方或狼人方达成胜利条件。村民方胜利条件是所有狼人被消灭，狼人方胜利条件是狼人数量等于或多于存活的非狼人玩家数量。\\n你在玩一局狼人杀游戏，这是一个8人局，其中包含3个狼人、2个村民和3个神（预言家、女巫和猎人），这局中你抽到的角色是村民，游戏开始时你不知道其他玩家的身份。\\n    你和所有神以及村民属于人类阵营，你们的胜利条件是消灭所有的狼人。你没有任何特殊能力。\\n    因此在游戏中你的工作包括以下内容：\\n    1.在白天发表言论，根据你的推理保护人类阵营玩家，找到狼人玩家并投票消灭他们。\\n你是7号玩家，你的身份是女巫。',\n",
       " 4: '《狼人杀》是一款社交推理游戏，游戏模拟了一个小村庄里村民与狼人之间的斗争。游戏目标根据不同角色有所不同，村民方需要找出并消灭所有狼人，狼人方则要尽可能消灭村民，直至狼人数量等于或多于村民数量。\\n根据你提供的角色设置，这里有1个预言家、1个女巫、1个猎人、2个村民和3个狼人。下面是这些角色的基本职能和游戏的简要规则：\\n- 预言家：每个夜晚可以查验一名玩家的身份，了解这名玩家是村民方还是狼人方。\\n- 女巫：拥有两瓶药水，一瓶可以救活当夜被狼人杀害的玩家，另一瓶可以在夜晚毒杀一名玩家。每瓶药水只能使用一次。\\n- 猎人：在被淘汰时（不论是白天被投票淘汰还是夜里被狼人杀害），可以开枪带走一名玩家。\\n- 村民：没有特殊能力，主要通过讨论和投票来识别狼人。\\n- 狼人：每个夜晚会选择杀害一名玩家，目标是消灭所有村民，获得游戏胜利。\\n游戏流程大致如下：\\n- 游戏开始时，每位玩家随机分配一个角色，并保密自己的身份。\\n- 游戏分为夜晚和白天两个阶段。\\n- 夜晚：所有玩家闭眼，游戏主持人（通常称为法官）指挥特定角色的玩家按顺序睁眼执行他们的能力。首先是狼人相互确认身份，然后选择一个玩家作为杀害目标。随后，预言家可以查验一名玩家的身份，女巫会被告知狼人的杀害目标，决定是否使用药水。\\n- 白天：所有玩家睁眼。如果有玩家在夜里被杀害，法官会宣布该玩家死亡（除非被女巫救活）。然后所有存活的玩家进行讨论，最后进行投票，票数最多的玩家被淘汰出局。如果猎人被淘汰，他可以使用他的技能。\\n- 游戏继续进行，直到村民方或狼人方达成胜利条件。村民方胜利条件是所有狼人被消灭，狼人方胜利条件是狼人数量等于或多于存活的非狼人玩家数量。\\n你在玩一局狼人杀游戏，这是一个8人局，其中包含3个狼人、2个村民和3个神（预言家、女巫和猎人），这局中你抽到的角色是村民，游戏开始时你不知道其他玩家的身份。\\n    你和所有神以及村民属于人类阵营，你们的胜利条件是消灭所有的狼人。你没有任何特殊能力。\\n    因此在游戏中你的工作包括以下内容：\\n    1.在白天发表言论，根据你的推理保护人类阵营玩家，找到狼人玩家并投票消灭他们。\\n你是4号玩家，你的身份是村民。',\n",
       " 1: '《狼人杀》是一款社交推理游戏，游戏模拟了一个小村庄里村民与狼人之间的斗争。游戏目标根据不同角色有所不同，村民方需要找出并消灭所有狼人，狼人方则要尽可能消灭村民，直至狼人数量等于或多于村民数量。\\n根据你提供的角色设置，这里有1个预言家、1个女巫、1个猎人、2个村民和3个狼人。下面是这些角色的基本职能和游戏的简要规则：\\n- 预言家：每个夜晚可以查验一名玩家的身份，了解这名玩家是村民方还是狼人方。\\n- 女巫：拥有两瓶药水，一瓶可以救活当夜被狼人杀害的玩家，另一瓶可以在夜晚毒杀一名玩家。每瓶药水只能使用一次。\\n- 猎人：在被淘汰时（不论是白天被投票淘汰还是夜里被狼人杀害），可以开枪带走一名玩家。\\n- 村民：没有特殊能力，主要通过讨论和投票来识别狼人。\\n- 狼人：每个夜晚会选择杀害一名玩家，目标是消灭所有村民，获得游戏胜利。\\n游戏流程大致如下：\\n- 游戏开始时，每位玩家随机分配一个角色，并保密自己的身份。\\n- 游戏分为夜晚和白天两个阶段。\\n- 夜晚：所有玩家闭眼，游戏主持人（通常称为法官）指挥特定角色的玩家按顺序睁眼执行他们的能力。首先是狼人相互确认身份，然后选择一个玩家作为杀害目标。随后，预言家可以查验一名玩家的身份，女巫会被告知狼人的杀害目标，决定是否使用药水。\\n- 白天：所有玩家睁眼。如果有玩家在夜里被杀害，法官会宣布该玩家死亡（除非被女巫救活）。然后所有存活的玩家进行讨论，最后进行投票，票数最多的玩家被淘汰出局。如果猎人被淘汰，他可以使用他的技能。\\n- 游戏继续进行，直到村民方或狼人方达成胜利条件。村民方胜利条件是所有狼人被消灭，狼人方胜利条件是狼人数量等于或多于存活的非狼人玩家数量。\\n你在玩一局狼人杀游戏，这是一个8人局，其中包含3个狼人、2个村民和3个神（预言家、女巫和猎人），这局中你抽到的角色是村民，游戏开始时你不知道其他玩家的身份。\\n    你和所有神以及村民属于人类阵营，你们的胜利条件是消灭所有的狼人。你没有任何特殊能力。\\n    因此在游戏中你的工作包括以下内容：\\n    1.在白天发表言论，根据你的推理保护人类阵营玩家，找到狼人玩家并投票消灭他们。\\n你是1号玩家，你的身份是村民。',\n",
       " 5: '《狼人杀》是一款社交推理游戏，游戏模拟了一个小村庄里村民与狼人之间的斗争。游戏目标根据不同角色有所不同，村民方需要找出并消灭所有狼人，狼人方则要尽可能消灭村民，直至狼人数量等于或多于村民数量。\\n根据你提供的角色设置，这里有1个预言家、1个女巫、1个猎人、2个村民和3个狼人。下面是这些角色的基本职能和游戏的简要规则：\\n- 预言家：每个夜晚可以查验一名玩家的身份，了解这名玩家是村民方还是狼人方。\\n- 女巫：拥有两瓶药水，一瓶可以救活当夜被狼人杀害的玩家，另一瓶可以在夜晚毒杀一名玩家。每瓶药水只能使用一次。\\n- 猎人：在被淘汰时（不论是白天被投票淘汰还是夜里被狼人杀害），可以开枪带走一名玩家。\\n- 村民：没有特殊能力，主要通过讨论和投票来识别狼人。\\n- 狼人：每个夜晚会选择杀害一名玩家，目标是消灭所有村民，获得游戏胜利。\\n游戏流程大致如下：\\n- 游戏开始时，每位玩家随机分配一个角色，并保密自己的身份。\\n- 游戏分为夜晚和白天两个阶段。\\n- 夜晚：所有玩家闭眼，游戏主持人（通常称为法官）指挥特定角色的玩家按顺序睁眼执行他们的能力。首先是狼人相互确认身份，然后选择一个玩家作为杀害目标。随后，预言家可以查验一名玩家的身份，女巫会被告知狼人的杀害目标，决定是否使用药水。\\n- 白天：所有玩家睁眼。如果有玩家在夜里被杀害，法官会宣布该玩家死亡（除非被女巫救活）。然后所有存活的玩家进行讨论，最后进行投票，票数最多的玩家被淘汰出局。如果猎人被淘汰，他可以使用他的技能。\\n- 游戏继续进行，直到村民方或狼人方达成胜利条件。村民方胜利条件是所有狼人被消灭，狼人方胜利条件是狼人数量等于或多于存活的非狼人玩家数量。\\n你在玩一局狼人杀游戏，这是一个8人局，其中包含3个狼人、2个村民和3个神（预言家、女巫和猎人），这局中你抽到的角色是村民，游戏开始时你不知道其他玩家的身份。\\n    你和所有神以及村民属于人类阵营，你们的胜利条件是消灭所有的狼人。你没有任何特殊能力。\\n    因此在游戏中你的工作包括以下内容：\\n    1.在白天发表言论，根据你的推理保护人类阵营玩家，找到狼人玩家并投票消灭他们。\\n你是5号玩家，你的身份是狼人，你的狼人队友包括2号玩家、3号玩家。',\n",
       " 2: '《狼人杀》是一款社交推理游戏，游戏模拟了一个小村庄里村民与狼人之间的斗争。游戏目标根据不同角色有所不同，村民方需要找出并消灭所有狼人，狼人方则要尽可能消灭村民，直至狼人数量等于或多于村民数量。\\n根据你提供的角色设置，这里有1个预言家、1个女巫、1个猎人、2个村民和3个狼人。下面是这些角色的基本职能和游戏的简要规则：\\n- 预言家：每个夜晚可以查验一名玩家的身份，了解这名玩家是村民方还是狼人方。\\n- 女巫：拥有两瓶药水，一瓶可以救活当夜被狼人杀害的玩家，另一瓶可以在夜晚毒杀一名玩家。每瓶药水只能使用一次。\\n- 猎人：在被淘汰时（不论是白天被投票淘汰还是夜里被狼人杀害），可以开枪带走一名玩家。\\n- 村民：没有特殊能力，主要通过讨论和投票来识别狼人。\\n- 狼人：每个夜晚会选择杀害一名玩家，目标是消灭所有村民，获得游戏胜利。\\n游戏流程大致如下：\\n- 游戏开始时，每位玩家随机分配一个角色，并保密自己的身份。\\n- 游戏分为夜晚和白天两个阶段。\\n- 夜晚：所有玩家闭眼，游戏主持人（通常称为法官）指挥特定角色的玩家按顺序睁眼执行他们的能力。首先是狼人相互确认身份，然后选择一个玩家作为杀害目标。随后，预言家可以查验一名玩家的身份，女巫会被告知狼人的杀害目标，决定是否使用药水。\\n- 白天：所有玩家睁眼。如果有玩家在夜里被杀害，法官会宣布该玩家死亡（除非被女巫救活）。然后所有存活的玩家进行讨论，最后进行投票，票数最多的玩家被淘汰出局。如果猎人被淘汰，他可以使用他的技能。\\n- 游戏继续进行，直到村民方或狼人方达成胜利条件。村民方胜利条件是所有狼人被消灭，狼人方胜利条件是狼人数量等于或多于存活的非狼人玩家数量。\\n你在玩一局狼人杀游戏，这是一个8人局，其中包含3个狼人、2个村民和3个神（预言家、女巫和猎人），这局中你抽到的角色是村民，游戏开始时你不知道其他玩家的身份。\\n    你和所有神以及村民属于人类阵营，你们的胜利条件是消灭所有的狼人。你没有任何特殊能力。\\n    因此在游戏中你的工作包括以下内容：\\n    1.在白天发表言论，根据你的推理保护人类阵营玩家，找到狼人玩家并投票消灭他们。\\n你是2号玩家，你的身份是狼人，你的狼人队友包括5号玩家、3号玩家。',\n",
       " 3: '《狼人杀》是一款社交推理游戏，游戏模拟了一个小村庄里村民与狼人之间的斗争。游戏目标根据不同角色有所不同，村民方需要找出并消灭所有狼人，狼人方则要尽可能消灭村民，直至狼人数量等于或多于村民数量。\\n根据你提供的角色设置，这里有1个预言家、1个女巫、1个猎人、2个村民和3个狼人。下面是这些角色的基本职能和游戏的简要规则：\\n- 预言家：每个夜晚可以查验一名玩家的身份，了解这名玩家是村民方还是狼人方。\\n- 女巫：拥有两瓶药水，一瓶可以救活当夜被狼人杀害的玩家，另一瓶可以在夜晚毒杀一名玩家。每瓶药水只能使用一次。\\n- 猎人：在被淘汰时（不论是白天被投票淘汰还是夜里被狼人杀害），可以开枪带走一名玩家。\\n- 村民：没有特殊能力，主要通过讨论和投票来识别狼人。\\n- 狼人：每个夜晚会选择杀害一名玩家，目标是消灭所有村民，获得游戏胜利。\\n游戏流程大致如下：\\n- 游戏开始时，每位玩家随机分配一个角色，并保密自己的身份。\\n- 游戏分为夜晚和白天两个阶段。\\n- 夜晚：所有玩家闭眼，游戏主持人（通常称为法官）指挥特定角色的玩家按顺序睁眼执行他们的能力。首先是狼人相互确认身份，然后选择一个玩家作为杀害目标。随后，预言家可以查验一名玩家的身份，女巫会被告知狼人的杀害目标，决定是否使用药水。\\n- 白天：所有玩家睁眼。如果有玩家在夜里被杀害，法官会宣布该玩家死亡（除非被女巫救活）。然后所有存活的玩家进行讨论，最后进行投票，票数最多的玩家被淘汰出局。如果猎人被淘汰，他可以使用他的技能。\\n- 游戏继续进行，直到村民方或狼人方达成胜利条件。村民方胜利条件是所有狼人被消灭，狼人方胜利条件是狼人数量等于或多于存活的非狼人玩家数量。\\n你在玩一局狼人杀游戏，这是一个8人局，其中包含3个狼人、2个村民和3个神（预言家、女巫和猎人），这局中你抽到的角色是村民，游戏开始时你不知道其他玩家的身份。\\n    你和所有神以及村民属于人类阵营，你们的胜利条件是消灭所有的狼人。你没有任何特殊能力。\\n    因此在游戏中你的工作包括以下内容：\\n    1.在白天发表言论，根据你的推理保护人类阵营玩家，找到狼人玩家并投票消灭他们。\\n你是3号玩家，你的身份是狼人，你的狼人队友包括5号玩家、2号玩家。'}"
      ]
     },
     "execution_count": 121,
     "metadata": {},
     "output_type": "execute_result"
    }
   ],
   "source": [
    "a=char_info_initialize(char_dist=char_dist)\n",
    "a"
   ]
  },
  {
   "cell_type": "code",
   "execution_count": 165,
   "id": "3bbe653c",
   "metadata": {},
   "outputs": [
    {
     "data": {
      "text/plain": [
       "'sdgdfgsdfgdsf'"
      ]
     },
     "execution_count": 165,
     "metadata": {},
     "output_type": "execute_result"
    }
   ],
   "source": [
    "a=\"sdgsdhshf【猎枪决策】:sdgdfgsdfgdsf\"\n",
    "g=re.search(r\"【猎枪决策】(.*)\",a)\n",
    "g.group(1)[1:]"
   ]
  },
  {
   "cell_type": "code",
   "execution_count": 29,
   "id": "8b0cd0ea",
   "metadata": {},
   "outputs": [],
   "source": [
    "#狼人\n",
    "class werewolf():\n",
    "    def __init__(self,base_llm,char_info):\n",
    "        self.char_info=char_info\n",
    "        self.llm=base_llm(self.char_info)\n",
    "    def kill_speech(self,cur_state,strategy):     #杀人发言\n",
    "        prompt=cur_state+strategy+'''现在是晚上时间，请你根据【游戏记录】中的信息，结合【游戏策略】，请仔细思考应该消灭哪一个玩家，并在和其他狼人的讨论中发言。\n",
    "        请把你的思考过程写到【思考过程】中，然后把发言内容写到【发言内容】中。\n",
    "        【思考过程】:'''\n",
    "        result=self.llm.call_with_messages(prompt)\n",
    "        res=re.search(r\"【发言内容】(.*)\",result).group(1)[1:]\n",
    "        return res\n",
    "    def kill_vote(self,cur_state,strategy):     #杀人投票\n",
    "        prompt=cur_state+strategy+'''现在是晚上时间，请你根据【游戏记录】中的信息，结合【游戏策略】，请仔细思考，并决定投票消灭哪一个玩家。\n",
    "        请把你的思考过程写到【思考过程】中，然后把投票结果写到【投票结果】中。\n",
    "        【思考过程】:'''\n",
    "        result=self.llm.call_with_messages(prompt)\n",
    "        res=re.search(r\"【投票结果】(.*)\",result).group(1)[1:]\n",
    "        return res\n",
    "    def speech(self,cur_state,strategy):    #白天发言\n",
    "        prompt=cur_state+strategy+'''现在是白天时间轮到你发言，请你根据【游戏记录】中的信息，结合【游戏策略】，请仔细思考如何发言才能获胜，并发表你的看法，误导人类阵营。\n",
    "        请把你的思考过程写到【思考过程】中，然后把发言内容写到【发言内容】中。\n",
    "        【思考过程】:'''\n",
    "        result=self.llm.call_with_messages(prompt)\n",
    "        res=re.search(r\"【发言内容】(.*)\",result).group(1)[1:]\n",
    "        return res\n",
    "    def day_vote(self,cur_state,strategy):    #白天投票\n",
    "        prompt=cur_state+strategy+'''现在是白天投票时间，请你根据【游戏记录】中今天的对话和历史信息，结合【游戏策略】，仔细思考投票决定消灭哪个玩家。\n",
    "        请把你的思考过程写到【思考过程】中，然后把投票结果写到【投票结果】中。\n",
    "        【思考过程】:'''\n",
    "        result=self.llm.call_with_messages(prompt)\n",
    "        res=re.search(r\"【投票结果】(.*)\",result).group(1)[1:]\n",
    "        return res"
   ]
  },
  {
   "cell_type": "code",
   "execution_count": 35,
   "id": "352203ee",
   "metadata": {},
   "outputs": [],
   "source": [
    "#seer\n",
    "class seer():\n",
    "    def __init__(self,base_llm,char_info):\n",
    "        self.char_info=char_info\n",
    "        self.llm=base_llm(self.char_info)\n",
    "    def char_val(self,cur_state,strategy,known_info):     #验身份\n",
    "        prompt=cur_state+known_info+strategy+'''现在是晚上时间，请你根据【游戏记录】中的信息，结合【游戏策略】，请仔细思考验证哪一个嫌疑最大的玩家。\n",
    "        请把你的思考过程写到【思考过程】中，然后把验身份的对象玩家编号写到【玩家编号】中。\n",
    "        【思考过程】:'''\n",
    "        result=self.llm.call_with_messages(prompt)\n",
    "        res=re.search(r\"【玩家编号】(.*)\",result).group(1)[1:]\n",
    "        return res\n",
    "    def speech(self,cur_state,strategy):    #白天发言\n",
    "        prompt=cur_state+strategy+'''现在是白天时间轮到你发言，请你根据【游戏记录】中的信息，结合【游戏策略】和你获得的信息，仔细思考如何发言才能帮助人类阵营获胜，并发表你的看法。\n",
    "        请把你的思考过程写到【思考过程】中，然后把发言内容写到【发言内容】中。\n",
    "        【思考过程】:'''\n",
    "        result=self.llm.call_with_messages(prompt)\n",
    "        res=re.search(r\"【发言内容】(.*)\",result).group(1)[1:]\n",
    "        return res\n",
    "    def day_vote(self,cur_state,strategy):    #白天投票\n",
    "        prompt=cur_state+strategy+'''现在是白天投票时间，请你根据【游戏记录】中今天的对话和历史信息，结合【游戏策略】，仔细思考投票决定消灭哪个玩家。\n",
    "        请把你的思考过程写到【思考过程】中，然后把投票结果写到【投票结果】中。\n",
    "        【思考过程】:'''\n",
    "        result=self.llm.call_with_messages(prompt)\n",
    "        res=re.search(r\"【投票结果】(.*)\",result).group(1)[1:]\n",
    "        return res"
   ]
  },
  {
   "cell_type": "code",
   "execution_count": 36,
   "id": "650ca3e4",
   "metadata": {},
   "outputs": [],
   "source": [
    "#witch\n",
    "class witch():\n",
    "    def __init__(self,base_llm,char_info):\n",
    "        self.char_info=char_info\n",
    "        self.llm=base_llm(self.char_info)\n",
    "    def use_poison(self,cur_state,strategy,killed_player):     #毒药\n",
    "        prompt=cur_state+strategy+'''现在是晚上时间，请你根据【游戏记录】中的信息，结合【游戏策略】，请仔细思考是否使用女巫的毒药消灭一名玩家，以及消灭哪位玩家。\n",
    "        请把你的思考过程写到【思考过程】中，然后把你的决定写到【毒药决策】中。\n",
    "        【思考过程】:'''\n",
    "        result=self.llm.call_with_messages(prompt)\n",
    "        res=re.search(r\"【毒药决策】(.*)\",result).group(1)[1:]\n",
    "        return res\n",
    "    def use_antidote(self,cur_state,strategy,killed_player):     #解药\n",
    "        prompt=cur_state+strategy+'''现在是晚上时间,%d号玩家被狼人消灭,请你根据【游戏记录】中的信息，结合【游戏策略】，请仔细思考，并是否使用解药复活他。\n",
    "        请把你的思考过程写到【思考过程】中，然后把你的决定写到【解药决策】中。\n",
    "        【思考过程】:'''%（killed_player）\n",
    "        result=self.llm.call_with_messages(prompt)\n",
    "        res=re.search(r\"【解药决策】(.*)\",result).group(1)[1:]\n",
    "        return res\n",
    "    def speech(self,cur_state,strategy):    #发言\n",
    "        prompt=cur_state+strategy+'''现在是白天时间轮到你发言，请你根据【游戏记录】中的信息，结合【游戏策略】和你获得的信息，仔细思考如何发言才能帮助人类阵营获胜，并发表你的看法。\n",
    "        请把你的思考过程写到【思考过程】中，然后把发言内容写到【发言内容】中。\n",
    "        【思考过程】:'''\n",
    "        result=self.llm.call_with_messages(prompt)\n",
    "        res=re.search(r\"【发言内容】(.*)\",result).group(1)[1:]\n",
    "        return res\n",
    "    def day_vote(self,cur_state,strategy):    #白天投票\n",
    "        prompt=cur_state+strategy+'''现在是白天投票时间，请你根据【游戏记录】中今天的对话和历史信息，结合【游戏策略】，仔细思考投票决定消灭哪个玩家。\n",
    "        请把你的思考过程写到【思考过程】中，然后把投票结果写到【投票结果】中。\n",
    "        【思考过程】:'''\n",
    "        result=self.llm.call_with_messages(prompt)\n",
    "        res=re.search(r\"【投票结果】(.*)\",result).group(1)[1:]\n",
    "        return res"
   ]
  },
  {
   "cell_type": "code",
   "execution_count": 34,
   "id": "53501aa4",
   "metadata": {},
   "outputs": [],
   "source": [
    "#villager\n",
    "class villager():\n",
    "    def __init__(self,base_llm,char_info):\n",
    "        self.char_info=char_info\n",
    "        self.llm=base_llm(self.char_info)\n",
    "    def speech(self,cur_state,strategy):    #发言\n",
    "        prompt=cur_state+strategy+'''现在是白天时间轮到你发言，请你根据【游戏记录】中的信息，结合【游戏策略】，仔细思考如何发言才能帮助人类阵营获胜，并发表你的看法。\n",
    "        请把你的思考过程写到【思考过程】中，然后把发言内容写到【发言内容】中。\n",
    "        【思考过程】:'''\n",
    "        result=self.llm.call_with_messages(prompt)\n",
    "        res=re.search(r\"【发言内容】(.*)\",result).group(1)[1:]\n",
    "        return res\n",
    "    def day_vote(self,cur_state,strategy):    #白天投票\n",
    "        prompt=cur_state+strategy+'''现在是白天投票时间，请你根据【游戏记录】中今天的对话和历史信息，结合【游戏策略】，仔细思考投票决定消灭哪个玩家。\n",
    "        请把你的思考过程写到【思考过程】中，然后把投票结果写到【投票结果】中。\n",
    "        【思考过程】:'''\n",
    "        result=self.llm.call_with_messages(prompt)\n",
    "        res=re.search(r\"【投票结果】(.*)\",result).group(1)[1:]\n",
    "        return res"
   ]
  },
  {
   "cell_type": "code",
   "execution_count": 37,
   "id": "b3a66cf3",
   "metadata": {},
   "outputs": [],
   "source": [
    "#huter\n",
    "class huter():\n",
    "    def __init__(self,base_llm,char_info):\n",
    "        self.char_info=char_info\n",
    "        self.llm=base_llm(self.char_info)\n",
    "    def vengence(self,cur_state,strategy):     #复仇子弹\n",
    "        prompt=cur_state+strategy+'''现在你即将被消灭，请你根据【游戏记录】中的信息，结合【游戏策略】，请仔细思考是否使用猎人的猎枪复仇消灭一名玩家，以及消灭哪位玩家。\n",
    "        请把你的思考过程写到【思考过程】中，然后把你的决定写到【猎枪决策】中。\n",
    "        【思考过程】:'''\n",
    "        result=self.llm.call_with_messages(prompt)\n",
    "        res=re.search(r\"【猎枪决策】(.*)\",result).group(1)[1:]\n",
    "        return res\n",
    "    def speech(self,cur_state,strategy):    #发言\n",
    "        prompt=cur_state+strategy+'''现在是白天时间轮到你发言，请你根据【游戏记录】中的信息，结合【游戏策略】和你获得的信息，仔细思考如何发言才能帮助人类阵营获胜，并发表你的看法。\n",
    "        请把你的思考过程写到【思考过程】中，然后把发言内容写到【发言内容】中。\n",
    "        【思考过程】:'''\n",
    "        result=self.llm.call_with_messages(prompt)\n",
    "        res=re.search(r\"【发言内容】(.*)\",result).group(1)[1:]\n",
    "        return res\n",
    "    def day_vote(self,cur_state,strategy):    #白天投票\n",
    "        prompt=cur_state+strategy+'''现在是白天投票时间，请你根据【游戏记录】中今天的对话和历史信息，结合【游戏策略】，仔细思考投票决定消灭哪个玩家。\n",
    "        请把你的思考过程写到【思考过程】中，然后把投票结果写到【投票结果】中。\n",
    "        【思考过程】:'''\n",
    "        result=self.llm.call_with_messages(prompt)\n",
    "        res=re.search(r\"【投票结果】(.*)\",result).group(1)[1:]\n",
    "        return res"
   ]
  },
  {
   "cell_type": "code",
   "execution_count": 54,
   "id": "97a798a8",
   "metadata": {},
   "outputs": [
    {
     "data": {
      "text/plain": [
       "0"
      ]
     },
     "execution_count": 54,
     "metadata": {},
     "output_type": "execute_result"
    }
   ],
   "source": [
    "#game_endcheck\n",
    "def endcheck(aliv_list,char_dist):\n",
    "    char_aliv=char_alive_check(aliv_list,char_dist)\n",
    "    if \"werewolf\" not in char_aliv:\n",
    "        return 2\n",
    "    elif \"villager\" not in char_aliv:\n",
    "        return 1\n",
    "    elif char_aliv=={\"werewolf\",\"villager\"}:\n",
    "        return 1\n",
    "    else:\n",
    "        return 0    \n",
    "endcheck(aliv_list,char_dist)"
   ]
  },
  {
   "cell_type": "code",
   "execution_count": 157,
   "id": "6c8d8b2d",
   "metadata": {},
   "outputs": [
    {
     "data": {
      "text/plain": [
       "3"
      ]
     },
     "execution_count": 157,
     "metadata": {},
     "output_type": "execute_result"
    }
   ],
   "source": [
    "a='''{'是否消灭':'是','消灭玩家':3}'''\n",
    "b=eval(a)\n",
    "b['消灭玩家']"
   ]
  },
  {
   "cell_type": "code",
   "execution_count": 160,
   "id": "d1e93b02",
   "metadata": {},
   "outputs": [],
   "source": [
    "#动作信息提取\n",
    "input_2_json_llm=base_llm(\"你是一个从对话内容提取json字符串的小助手，可以根据提示从对话中精准提取信息，并以规定的json格式返回\")\n",
    "def kill_vote_extr(base_llm,input):\n",
    "    prompt='''请根据狼人的投票内容提取他的投票消灭的对象，并且以类似以下格式返回结果:{'是否消灭':'是','消灭玩家':4}\n",
    "    例1：狼人的【投票结果】:根据当前的局面，我认为消灭3号玩家最好，因为他比较像预言家。\n",
    "    【提取结果】:{'是否消灭':'是','消灭玩家':3}\n",
    "    例2：狼人的【投票结果】:2号玩家。\n",
    "    【提取结果】:{'是否消灭':'是','消灭玩家':2}\n",
    "    #####################################\n",
    "    当前狼人的【投票结果】:%s。\n",
    "    【提取结果】:\n",
    "    '''%(input)\n",
    "    result=self.llm.call_with_messages(prompt)\n",
    "    kill_res=eval(result)\n",
    "    if kill_res['是否消灭']=='是':\n",
    "        return kill_res['消灭玩家']\n",
    "    else:\n",
    "        return -1\n",
    "def day_vote_extr(base_llm,input):\n",
    "    prompt='''请根据当前玩家的投票内容提取他的投票消灭的对象，并且以类似以下格式返回结果:{'是否消灭':'是','消灭玩家':4}\n",
    "    例1：狼人的【投票结果】:根据当前的局面，我认为消灭3号玩家最好。\n",
    "    【提取结果】:{'是否消灭':'是','消灭玩家':3}\n",
    "    例2：狼人的【投票结果】:2号玩家。\n",
    "    【提取结果】:{'是否消灭':'是','消灭玩家':2}\n",
    "    #####################################\n",
    "    当前狼人的【投票结果】:%s。\n",
    "    【提取结果】:\n",
    "    '''%(input)\n",
    "    result=self.llm.call_with_messages(prompt)\n",
    "    kill_res=eval(result)\n",
    "    if kill_res['是否消灭']=='是':\n",
    "        return kill_res['消灭玩家']\n",
    "    else:\n",
    "        return -1\n",
    "def seer_val_extr(base_llm,input):\n",
    "    prompt='''请根据玩家的选择决策提取他的投票验证身份的对象，并且以类似以下格式返回结果:{'是否验证':'是','验证玩家':4}\n",
    "    例1：玩家的【选择决策】:根据当前的局面，我想知道3号玩家的角色是什么。\n",
    "    【提取结果】:{'是否验证':'是','验证玩家':3}\n",
    "    例2：玩家的【选择决策】:2号玩家。\n",
    "    【提取结果】:{'是否验证':'是','验证玩家':3}\n",
    "    #####################################\n",
    "    当前玩家的【选择决策】:%s。\n",
    "    【提取结果】:\n",
    "    '''%(input)\n",
    "    result=self.llm.call_with_messages(prompt)\n",
    "    kill_res=eval(result)\n",
    "    if kill_res['是否验证']=='是':\n",
    "        return kill_res['验证玩家']\n",
    "    else:\n",
    "        return -1\n",
    "def witch_poison_extr(base_llm,input):\n",
    "    prompt='''请根据当前玩家的毒药决策提取他的决定用毒药消灭的对象，并且以类似以下格式返回结果:{'是否消灭':'是','消灭玩家':4}\n",
    "    例1：玩家的【毒药决策】:根据当前的局面，我想用毒药毒死3号玩家。\n",
    "    【提取结果】:{'是否消灭':'是','消灭玩家':3}\n",
    "    例2：玩家的【毒药决策】:2号玩家。\n",
    "    【提取结果】:{'是否消灭':'是','消灭玩家':2}\n",
    "    #####################################\n",
    "    当前玩家的【毒药决策】:%s。\n",
    "    【提取结果】:\n",
    "    '''%(input)\n",
    "    result=self.llm.call_with_messages(prompt)\n",
    "    kill_res=eval(result)\n",
    "    if kill_res['是否消灭']=='是':\n",
    "        return kill_res['消灭玩家']\n",
    "    else:\n",
    "        return -1\n",
    "def witch_antidote_extr(base_llm,input):\n",
    "    prompt='''请根据当前玩家的解药决策提取是否解救的决定，并且以类似以下格式返回结果:{'是否解救':'是'}\n",
    "    例1：玩家的【解药决策】:根据当前的局面，我不想用解药救下这个人。\n",
    "    【提取结果】:{'是否解救':'否'}\n",
    "    例2：玩家的【解药决策】:救。\n",
    "    【提取结果】:{'是否解救':'是'}\n",
    "    #####################################\n",
    "    当前玩家的【解药决策】:%s。\n",
    "    【提取结果】:\n",
    "    '''%(input)\n",
    "    result=self.llm.call_with_messages(prompt)\n",
    "    kill_res=eval(result)\n",
    "    return kill_res['是否解救']\n",
    "def hunter_vegence_extr(base_llm,input):\n",
    "    prompt='''请根据当前玩家的猎枪决策提取他的决定用猎枪复仇消灭的对象，并且以类似以下格式返回结果:{'是否消灭':'是','消灭玩家':4}\n",
    "    例1：玩家的【猎枪决策】:根据当前的局面，我想用带走3号玩家。\n",
    "    【提取结果】:{'是否消灭':'是','消灭玩家':3}\n",
    "    例2：玩家的【猎枪决策】:2号玩家。\n",
    "    【提取结果】:{'是否消灭':'是','消灭玩家':2}\n",
    "    #####################################\n",
    "    当前玩家的【猎枪决策】:%s。\n",
    "    【提取结果】:\n",
    "    '''%(input)\n",
    "    result=self.llm.call_with_messages(prompt)\n",
    "    kill_res=eval(result)\n",
    "    if kill_res['是否消灭']=='是':\n",
    "        return kill_res['消灭玩家']\n",
    "    else:\n",
    "        return -1"
   ]
  },
  {
   "cell_type": "code",
   "execution_count": 169,
   "id": "c0f119cb",
   "metadata": {},
   "outputs": [],
   "source": [
    "#建立数据库\n",
    "conn = sqlite3.connect('werewolf.db')"
   ]
  },
  {
   "cell_type": "code",
   "execution_count": null,
   "id": "5b90dea8",
   "metadata": {},
   "outputs": [],
   "source": [
    "class game_logger():\n",
    "    def __init__(self,db_name):\n",
    "        self.conn=sqlite3.connect(db_name)\n",
    "        self.cursor = self.conn.cursor()\n",
    "        self.table_name=datetime.now().strftime(\"%Y%m%d%H%M%S\")\n",
    "        create_table_sql = f'''CREATE TABLE IF NOT EXISTS {self.table_name} (\n",
    "        id INTEGER PRIMARY KEY,\n",
    "        data TEXT NOT NULL\n",
    "            )\n",
    "        '''\n",
    "        self.cursor.execute(create_table_sql)\n",
    "    def "
   ]
  },
  {
   "cell_type": "code",
   "execution_count": null,
   "id": "414412b8",
   "metadata": {},
   "outputs": [],
   "source": [
    "#night process\n",
    "def night(game_log,alive_list,char_dist):\n",
    "    pass"
   ]
  },
  {
   "cell_type": "code",
   "execution_count": null,
   "id": "7974fcc1",
   "metadata": {},
   "outputs": [],
   "source": [
    "#day process\n",
    "def night(game_log,alive_list,char_dist):\n",
    "    pass"
   ]
  }
 ],
 "metadata": {
  "kernelspec": {
   "display_name": "Python 3 (ipykernel)",
   "language": "python",
   "name": "python3"
  },
  "language_info": {
   "codemirror_mode": {
    "name": "ipython",
    "version": 3
   },
   "file_extension": ".py",
   "mimetype": "text/x-python",
   "name": "python",
   "nbconvert_exporter": "python",
   "pygments_lexer": "ipython3",
   "version": "3.10.9"
  }
 },
 "nbformat": 4,
 "nbformat_minor": 5
}
